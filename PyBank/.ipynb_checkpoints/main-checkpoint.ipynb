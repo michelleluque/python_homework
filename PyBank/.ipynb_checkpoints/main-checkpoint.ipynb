{
 "cells": [
  {
   "cell_type": "code",
   "execution_count": 27,
   "id": "bdb89ecf-c09f-474e-b7e3-6b08c72b12f2",
   "metadata": {},
   "outputs": [],
   "source": [
    "import csv\n",
    "from pathlib import Path\n",
    "file_to_load = Path(\"budget_data.csv\")\n",
    "file_to_output = Path(\"budget_analysis.txt\")\n",
    "#create variables for data\n",
    "total_months = 0\n",
    "month_of_change = []\n",
    "net_change_list = []\n",
    "greatest_increase = [\"\",0]\n",
    "greatest_decrease = [\"\",9999999999]\n",
    "total_net=0\n",
    "#loop, read csv and set up reader object\n",
    "with open(file_to_load) as financial_data:\n",
    "    reader=csv.reader(financial_data)\n",
    "    header = next(reader)\n",
    "    first_row = next(reader)\n",
    "    total_months = total_months + 1\n",
    "    total_net = total_net +int(first_row[1])\n",
    "    prev_net = int(first_row[1])\n",
    "#populating the metrics\n",
    "    for row in reader:\n",
    "        total_months = total_months + 1\n",
    "        total_net = total_net +int(row[1])\n",
    "        net_change = int(row[1])- prev_net\n",
    "        prev_net = int(row[1])\n",
    "        net_change_list = net_change_list + [net_change] \n",
    "        month_of_change = month_of_change + [row[0]]\n",
    "        #greatest increase \n",
    "        if net_change > greatest_increase[1]:\n",
    "            greatest_increase[0] = row[0]\n",
    "            greatest_increase[1] = net_change\n",
    "        #greatest decrease\n",
    "        if net_change < greatest_decrease[1]:\n",
    "            greatest_decrease[0] = row[0]\n",
    "            greatest_decrease[1] = net_change\n",
    "#average net change \n",
    "net_monthly_avg = round(sum(net_change_list) / len(net_change_list),2)\n",
    "#results into text file \n",
    "with open(file_to_output, \"w\") as txt_file:\n",
    "    txt_file.write(f\"Financial Analysis\\n\")\n",
    "    txt_file.write(f\"----------------------\\n\")\n",
    "    txt_file.write(f\"Total Months: (total_months)\\n\")\n",
    "    txt_file.write(f\"Total: $(total_net)\\n\")\n",
    "    txt_file.write(f\"Average Change: $(net_monthly_avg)\\n\")\n",
    "    txt_file.write(f\"Greatest Profit Increase: (greatest_increase[0]) ($(greatest_increase[1]))\\n\")\n",
    "    txt_file.write(f\"Greatest Profit Decrease: (greatest_decrease[0]) ($(greatest_increase[1]))\\n\")\n",
    "          \n"
   ]
  },
  {
   "cell_type": "code",
   "execution_count": null,
   "id": "8be0f834-4e00-46a3-a17c-f38170ab9f45",
   "metadata": {},
   "outputs": [],
   "source": []
  },
  {
   "cell_type": "code",
   "execution_count": null,
   "id": "2fa01a78-8199-437a-a4b2-c7221e4786b7",
   "metadata": {},
   "outputs": [],
   "source": []
  }
 ],
 "metadata": {
  "kernelspec": {
   "display_name": "Python 3 (ipykernel)",
   "language": "python",
   "name": "python3"
  },
  "language_info": {
   "codemirror_mode": {
    "name": "ipython",
    "version": 3
   },
   "file_extension": ".py",
   "mimetype": "text/x-python",
   "name": "python",
   "nbconvert_exporter": "python",
   "pygments_lexer": "ipython3",
   "version": "3.11.4"
  }
 },
 "nbformat": 4,
 "nbformat_minor": 5
}
